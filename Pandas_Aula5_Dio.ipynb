{
  "nbformat": 4,
  "nbformat_minor": 0,
  "metadata": {
    "colab": {
      "provenance": [],
      "mount_file_id": "10LeSS1mzQFxUdJkE9Dr3-kOJ1AL8nUny",
      "authorship_tag": "ABX9TyNug1BpKwT2saegu36pQIt2",
      "include_colab_link": true
    },
    "kernelspec": {
      "name": "python3",
      "display_name": "Python 3"
    },
    "language_info": {
      "name": "python"
    }
  },
  "cells": [
    {
      "cell_type": "markdown",
      "metadata": {
        "id": "view-in-github",
        "colab_type": "text"
      },
      "source": [
        "<a href=\"https://colab.research.google.com/github/dejandrea/Bootcamp-Gera--o-Tech-Unimed-BH---Ci-ncia-de-dados-Python/blob/master/Pandas_Aula5_Dio.ipynb\" target=\"_parent\"><img src=\"https://colab.research.google.com/assets/colab-badge.svg\" alt=\"Open In Colab\"/></a>"
      ]
    },
    {
      "cell_type": "markdown",
      "source": [
        "Análise de Dados com Pandas"
      ],
      "metadata": {
        "id": "563lP5W4tDTP"
      }
    },
    {
      "cell_type": "code",
      "execution_count": null,
      "metadata": {
        "id": "8f-HKm10mr6R"
      },
      "outputs": [],
      "source": [
        "#importando a biblioteca\n",
        "import pandas as pd"
      ]
    },
    {
      "cell_type": "code",
      "source": [
        "#leitura dos arquivos\n",
        "df1 = pd.read_excel(\"/content/drive/MyDrive/datasets/Aracaju.xlsx\")\n",
        "df2 = pd.read_excel(\"/content/drive/MyDrive/datasets/Fortaleza.xlsx\")\n",
        "df3 = pd.read_excel(\"/content/drive/MyDrive/datasets/Natal.xlsx\")\n",
        "df4 = pd.read_excel(\"/content/drive/MyDrive/datasets/Recife.xlsx\")\n",
        "df5 = pd.read_excel(\"/content/drive/MyDrive/datasets/Salvador.xlsx\")"
      ],
      "metadata": {
        "id": "RA0f-SSzm5MI"
      },
      "execution_count": null,
      "outputs": []
    },
    {
      "cell_type": "code",
      "source": [
        "#juntando os arquivos\n",
        "df = pd.concat([df1,df2,df3,df4,df5])"
      ],
      "metadata": {
        "id": "XXoZvpadoUxS"
      },
      "execution_count": null,
      "outputs": []
    },
    {
      "cell_type": "code",
      "source": [
        "#Exibindo as 5 primeiras linhas\n",
        "df.head()"
      ],
      "metadata": {
        "id": "aSHVf3JwoojZ"
      },
      "execution_count": null,
      "outputs": []
    },
    {
      "cell_type": "code",
      "source": [
        "#Exibindo as 5 últimas linhas\n",
        "df.tail()"
      ],
      "metadata": {
        "id": "QAPd4Pa7oyVn"
      },
      "execution_count": null,
      "outputs": []
    },
    {
      "cell_type": "code",
      "source": [
        "#mostra do conjunto de dados\n",
        "df.sample(10)"
      ],
      "metadata": {
        "id": "oUVi0o6Do5bo"
      },
      "execution_count": null,
      "outputs": []
    },
    {
      "cell_type": "code",
      "source": [
        "#tipo de dados de cada coluna\n",
        "df.dtypes"
      ],
      "metadata": {
        "id": "MqZDqkZHp27h"
      },
      "execution_count": null,
      "outputs": []
    },
    {
      "cell_type": "code",
      "source": [
        "#alterar tipo de dados de um coluna\n",
        "df['LojaID'] = df['LojaID'].astype('object')"
      ],
      "metadata": {
        "id": "c0lwEVa3p79M"
      },
      "execution_count": null,
      "outputs": []
    },
    {
      "cell_type": "code",
      "source": [
        "#tipo de dados de cada coluna\n",
        "df.dtypes"
      ],
      "metadata": {
        "id": "I6KPVJp4qSZQ"
      },
      "execution_count": null,
      "outputs": []
    },
    {
      "cell_type": "code",
      "source": [
        "#consultando linhas com valores em branco\n",
        "df.isnull().sum()"
      ],
      "metadata": {
        "colab": {
          "base_uri": "https://localhost:8080/"
        },
        "id": "-ZgAQVDgqaVw",
        "outputId": "90edd4f2-1d19-418e-d290-e3e15f7e0774"
      },
      "execution_count": null,
      "outputs": [
        {
          "output_type": "execute_result",
          "data": {
            "text/plain": [
              "Cidade    0\n",
              "Data      0\n",
              "Vendas    0\n",
              "LojaID    0\n",
              "Qtde      0\n",
              "dtype: int64"
            ]
          },
          "metadata": {},
          "execution_count": 12
        }
      ]
    },
    {
      "cell_type": "code",
      "source": [
        "#substituindo os valores nulos por média (em memória)\n",
        "df['Vendas'].fillna(df['Vendas'].mean(),inplace=True)"
      ],
      "metadata": {
        "id": "yEo_889VqssA"
      },
      "execution_count": null,
      "outputs": []
    },
    {
      "cell_type": "code",
      "source": [
        "#substituindo os valores nulos por zero\n",
        "df['Vendas'].fillna(0,inplace = True)"
      ],
      "metadata": {
        "id": "qqwjfEINruWg"
      },
      "execution_count": null,
      "outputs": []
    },
    {
      "cell_type": "code",
      "source": [
        "#Apagando linhas com valores nulos\n",
        "df.dropna(inplace=True)"
      ],
      "metadata": {
        "id": "V6M_rwqYsImo"
      },
      "execution_count": null,
      "outputs": []
    },
    {
      "cell_type": "code",
      "source": [
        "#Apagando linhas com valores nulos com base apenas em uma coluna\n",
        "df.dropna(subset=['Vendas'],inplace=True)"
      ],
      "metadata": {
        "id": "StdcNON7sUvf"
      },
      "execution_count": null,
      "outputs": []
    },
    {
      "cell_type": "code",
      "source": [
        "#Removendo linhas que estejam com valores faltantes, em todas as colunas\n",
        "df.dropna(how='all',inplace=True)"
      ],
      "metadata": {
        "id": "nYqU4n-jsom3"
      },
      "execution_count": null,
      "outputs": []
    },
    {
      "cell_type": "markdown",
      "source": [
        "Criando novas colunas"
      ],
      "metadata": {
        "id": "F8D9RnQts-sI"
      }
    },
    {
      "cell_type": "code",
      "source": [],
      "metadata": {
        "id": "JQpIH5Z1tBJo"
      },
      "execution_count": null,
      "outputs": []
    }
  ]
}